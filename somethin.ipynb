{
 "cells": [
  {
   "cell_type": "code",
   "execution_count": 1,
   "metadata": {},
   "outputs": [],
   "source": [
    "import pandas as pd"
   ]
  },
  {
   "cell_type": "code",
   "execution_count": 5,
   "metadata": {},
   "outputs": [
    {
     "data": {
      "text/html": [
       "<div>\n",
       "<style scoped>\n",
       "    .dataframe tbody tr th:only-of-type {\n",
       "        vertical-align: middle;\n",
       "    }\n",
       "\n",
       "    .dataframe tbody tr th {\n",
       "        vertical-align: top;\n",
       "    }\n",
       "\n",
       "    .dataframe thead th {\n",
       "        text-align: right;\n",
       "    }\n",
       "</style>\n",
       "<table border=\"1\" class=\"dataframe\">\n",
       "  <thead>\n",
       "    <tr style=\"text-align: right;\">\n",
       "      <th></th>\n",
       "      <th>Name</th>\n",
       "      <th>Email Id</th>\n",
       "      <th>College</th>\n",
       "      <th>Contact</th>\n",
       "    </tr>\n",
       "  </thead>\n",
       "  <tbody>\n",
       "    <tr>\n",
       "      <th>0</th>\n",
       "      <td>Kanika</td>\n",
       "      <td>0409kanikasharma@gmail.com</td>\n",
       "      <td>MCM DAV Sec-36A,CHD</td>\n",
       "      <td>09915737688</td>\n",
       "    </tr>\n",
       "    <tr>\n",
       "      <th>1</th>\n",
       "      <td>Vedansh Singh</td>\n",
       "      <td>1311vibhu@gmail.com</td>\n",
       "      <td>PEC</td>\n",
       "      <td>9807271939</td>\n",
       "    </tr>\n",
       "    <tr>\n",
       "      <th>2</th>\n",
       "      <td>Shruti Garg</td>\n",
       "      <td>13shrutigarg13@gmail.com</td>\n",
       "      <td>Punjab Engineering College</td>\n",
       "      <td>6239483698</td>\n",
       "    </tr>\n",
       "    <tr>\n",
       "      <th>3</th>\n",
       "      <td>Arush Verma</td>\n",
       "      <td>17arush05@gmail.com</td>\n",
       "      <td>Punjab engineering college</td>\n",
       "      <td>6239077272</td>\n",
       "    </tr>\n",
       "    <tr>\n",
       "      <th>4</th>\n",
       "      <td>Pratishtha</td>\n",
       "      <td>19may2005pratishtha@gmail.com</td>\n",
       "      <td>UIET, Panjab University</td>\n",
       "      <td>9468155567</td>\n",
       "    </tr>\n",
       "    <tr>\n",
       "      <th>...</th>\n",
       "      <td>...</td>\n",
       "      <td>...</td>\n",
       "      <td>...</td>\n",
       "      <td>...</td>\n",
       "    </tr>\n",
       "    <tr>\n",
       "      <th>1481</th>\n",
       "      <td>Yuvraj bansal</td>\n",
       "      <td>yuvrajbansal.2014@gmail.com</td>\n",
       "      <td>Punjab engineering college</td>\n",
       "      <td>8699020833</td>\n",
       "    </tr>\n",
       "    <tr>\n",
       "      <th>1482</th>\n",
       "      <td>Yuvraj Singh</td>\n",
       "      <td>yuvrajsingh.bt23meta@pec.edu.in</td>\n",
       "      <td>PEC Chandigarh</td>\n",
       "      <td>9695660154</td>\n",
       "    </tr>\n",
       "    <tr>\n",
       "      <th>1483</th>\n",
       "      <td>Yuvraj</td>\n",
       "      <td>yuvrajsinghbirdi.bt21cse@pec.edu.in</td>\n",
       "      <td>PEC</td>\n",
       "      <td>9501904767</td>\n",
       "    </tr>\n",
       "    <tr>\n",
       "      <th>1484</th>\n",
       "      <td>Yuvraj Singh Dagur</td>\n",
       "      <td>yuvrajsinghdagur0705@gmail.com</td>\n",
       "      <td>Punjab Engineering College Chandigarh</td>\n",
       "      <td>7014020352</td>\n",
       "    </tr>\n",
       "    <tr>\n",
       "      <th>1485</th>\n",
       "      <td>Zavik Khanchi</td>\n",
       "      <td>zavikkhanchi.bt23ece@pec.edu.in</td>\n",
       "      <td>Punjab Engineering College</td>\n",
       "      <td>7206113301</td>\n",
       "    </tr>\n",
       "  </tbody>\n",
       "</table>\n",
       "<p>1486 rows × 4 columns</p>\n",
       "</div>"
      ],
      "text/plain": [
       "                     Name                             Email Id  \\\n",
       "0                  Kanika           0409kanikasharma@gmail.com   \n",
       "1           Vedansh Singh                  1311vibhu@gmail.com   \n",
       "2             Shruti Garg             13shrutigarg13@gmail.com   \n",
       "3            Arush Verma                   17arush05@gmail.com   \n",
       "4              Pratishtha        19may2005pratishtha@gmail.com   \n",
       "...                   ...                                  ...   \n",
       "1481        Yuvraj bansal          yuvrajbansal.2014@gmail.com   \n",
       "1482         Yuvraj Singh      yuvrajsingh.bt23meta@pec.edu.in   \n",
       "1483               Yuvraj  yuvrajsinghbirdi.bt21cse@pec.edu.in   \n",
       "1484  Yuvraj Singh Dagur        yuvrajsinghdagur0705@gmail.com   \n",
       "1485       Zavik Khanchi       zavikkhanchi.bt23ece@pec.edu.in   \n",
       "\n",
       "                                     College      Contact  \n",
       "0                        MCM DAV Sec-36A,CHD  09915737688  \n",
       "1                                        PEC   9807271939  \n",
       "2                Punjab Engineering College    6239483698  \n",
       "3                Punjab engineering college    6239077272  \n",
       "4                    UIET, Panjab University   9468155567  \n",
       "...                                      ...          ...  \n",
       "1481              Punjab engineering college   8699020833  \n",
       "1482                          PEC Chandigarh   9695660154  \n",
       "1483                                     PEC   9501904767  \n",
       "1484  Punjab Engineering College Chandigarh    7014020352  \n",
       "1485             Punjab Engineering College    7206113301  \n",
       "\n",
       "[1486 rows x 4 columns]"
      ]
     },
     "execution_count": 5,
     "metadata": {},
     "output_type": "execute_result"
    }
   ],
   "source": [
    "df = pd.read_excel('./PecfestRegistrations (4).xlsx')\n",
    "df"
   ]
  },
  {
   "cell_type": "code",
   "execution_count": 4,
   "metadata": {},
   "outputs": [
    {
     "name": "stdout",
     "output_type": "stream",
     "text": [
      "Collecting openpyxl\n",
      "  Downloading openpyxl-3.1.2-py2.py3-none-any.whl (249 kB)\n",
      "\u001b[2K     \u001b[90m━━━━━━━━━━━━━━━━━━━━━━━━━━━━━━━━━━━━━━━\u001b[0m \u001b[32m250.0/250.0 kB\u001b[0m \u001b[31m1.0 MB/s\u001b[0m eta \u001b[36m0:00:00\u001b[0m00:01\u001b[0m00:01\u001b[0m\n",
      "\u001b[?25hCollecting et-xmlfile\n",
      "  Downloading et_xmlfile-1.1.0-py3-none-any.whl (4.7 kB)\n",
      "Installing collected packages: et-xmlfile, openpyxl\n",
      "Successfully installed et-xmlfile-1.1.0 openpyxl-3.1.2\n"
     ]
    }
   ],
   "source": [
    "!pip install openpyxl"
   ]
  },
  {
   "cell_type": "code",
   "execution_count": 7,
   "metadata": {},
   "outputs": [
    {
     "ename": "AttributeError",
     "evalue": "'Series' object has no attribute 'lower'",
     "output_type": "error",
     "traceback": [
      "\u001b[0;31m---------------------------------------------------------------------------\u001b[0m",
      "\u001b[0;31mAttributeError\u001b[0m                            Traceback (most recent call last)",
      "\u001b[1;32m/Users/harshjohar/Desktop/pecfest/admin/somethin.ipynb Cell 4\u001b[0m line \u001b[0;36m1\n\u001b[0;32m----> <a href='vscode-notebook-cell:/Users/harshjohar/Desktop/pecfest/admin/somethin.ipynb#W3sZmlsZQ%3D%3D?line=0'>1</a>\u001b[0m values\u001b[39m=\u001b[39m df[\u001b[39m'\u001b[39;49m\u001b[39mCollege\u001b[39;49m\u001b[39m'\u001b[39;49m]\u001b[39m.\u001b[39;49mlower()\u001b[39m.\u001b[39mvalue_counts()\n",
      "File \u001b[0;32m/opt/homebrew/Caskroom/miniforge/base/lib/python3.10/site-packages/pandas/core/generic.py:5575\u001b[0m, in \u001b[0;36mNDFrame.__getattr__\u001b[0;34m(self, name)\u001b[0m\n\u001b[1;32m   5568\u001b[0m \u001b[39mif\u001b[39;00m (\n\u001b[1;32m   5569\u001b[0m     name \u001b[39mnot\u001b[39;00m \u001b[39min\u001b[39;00m \u001b[39mself\u001b[39m\u001b[39m.\u001b[39m_internal_names_set\n\u001b[1;32m   5570\u001b[0m     \u001b[39mand\u001b[39;00m name \u001b[39mnot\u001b[39;00m \u001b[39min\u001b[39;00m \u001b[39mself\u001b[39m\u001b[39m.\u001b[39m_metadata\n\u001b[1;32m   5571\u001b[0m     \u001b[39mand\u001b[39;00m name \u001b[39mnot\u001b[39;00m \u001b[39min\u001b[39;00m \u001b[39mself\u001b[39m\u001b[39m.\u001b[39m_accessors\n\u001b[1;32m   5572\u001b[0m     \u001b[39mand\u001b[39;00m \u001b[39mself\u001b[39m\u001b[39m.\u001b[39m_info_axis\u001b[39m.\u001b[39m_can_hold_identifiers_and_holds_name(name)\n\u001b[1;32m   5573\u001b[0m ):\n\u001b[1;32m   5574\u001b[0m     \u001b[39mreturn\u001b[39;00m \u001b[39mself\u001b[39m[name]\n\u001b[0;32m-> 5575\u001b[0m \u001b[39mreturn\u001b[39;00m \u001b[39mobject\u001b[39;49m\u001b[39m.\u001b[39;49m\u001b[39m__getattribute__\u001b[39;49m(\u001b[39mself\u001b[39;49m, name)\n",
      "\u001b[0;31mAttributeError\u001b[0m: 'Series' object has no attribute 'lower'"
     ]
    }
   ],
   "source": [
    "values= df['College'].lower().value_counts()"
   ]
  },
  {
   "cell_type": "code",
   "execution_count": 10,
   "metadata": {},
   "outputs": [],
   "source": [
    "df['College']= df['College'].str.lower()"
   ]
  },
  {
   "cell_type": "code",
   "execution_count": 12,
   "metadata": {},
   "outputs": [],
   "source": [
    "values = df['College'].value_counts()"
   ]
  },
  {
   "cell_type": "code",
   "execution_count": 13,
   "metadata": {},
   "outputs": [
    {
     "data": {
      "text/plain": [
       "pandas.core.series.Series"
      ]
     },
     "execution_count": 13,
     "metadata": {},
     "output_type": "execute_result"
    }
   ],
   "source": [
    "type(values)"
   ]
  },
  {
   "cell_type": "code",
   "execution_count": 14,
   "metadata": {},
   "outputs": [],
   "source": [
    "values.to_excel('./new.xlsx')"
   ]
  },
  {
   "cell_type": "code",
   "execution_count": null,
   "metadata": {},
   "outputs": [],
   "source": []
  }
 ],
 "metadata": {
  "kernelspec": {
   "display_name": "base",
   "language": "python",
   "name": "python3"
  },
  "language_info": {
   "codemirror_mode": {
    "name": "ipython",
    "version": 3
   },
   "file_extension": ".py",
   "mimetype": "text/x-python",
   "name": "python",
   "nbconvert_exporter": "python",
   "pygments_lexer": "ipython3",
   "version": "3.10.6"
  }
 },
 "nbformat": 4,
 "nbformat_minor": 2
}
