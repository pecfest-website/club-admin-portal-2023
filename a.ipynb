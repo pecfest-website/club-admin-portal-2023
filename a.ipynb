{
 "cells": [
  {
   "cell_type": "code",
   "execution_count": 1,
   "metadata": {},
   "outputs": [],
   "source": [
    "import pandas as pd\n",
    "from glob import glob"
   ]
  },
  {
   "cell_type": "code",
   "execution_count": 2,
   "metadata": {},
   "outputs": [
    {
     "data": {
      "text/plain": [
       "['../Major Project/Deciduous/3480-31-10-2019.jpg',\n",
       " '../Major Project/Deciduous/3241-21-10-2019.jpg',\n",
       " '../Major Project/Deciduous/629-01-02-2019.jpg',\n",
       " '../Major Project/Deciduous/3220-19-10-2019.jpg',\n",
       " '../Major Project/Deciduous/3431-30-10-2019.jpg',\n",
       " '../Major Project/Deciduous/3488-31-10-2019.jpg',\n",
       " '../Major Project/Deciduous/3470-31-10-2019.jpg',\n",
       " '../Major Project/Deciduous/3301-23-10-2019.jpg',\n",
       " '../Major Project/Deciduous/3386-26-10-2019.jpg',\n",
       " '../Major Project/Deciduous/3351-24-10-2019.jpg',\n",
       " '../Major Project/Deciduous/3247-21-10-2019.jpg',\n",
       " '../Major Project/Deciduous/3375-25-10-2019.jpg',\n",
       " '../Major Project/Deciduous/3388-26-10-2019.jpg',\n",
       " '../Major Project/Deciduous/3397-26-10-2019.jpg',\n",
       " '../Major Project/Deciduous/3432-30-10-2019.jpg',\n",
       " '../Major Project/Deciduous/3135-14-10-2019.jpg',\n",
       " '../Major Project/Deciduous/3120-14-10-2019.jpg',\n",
       " '../Major Project/Deciduous/3469-31-10-2019.jpg',\n",
       " '../Major Project/Deciduous/3496-31-10-2019.jpg',\n",
       " '../Major Project/Deciduous/3239-19-10-2019.jpg',\n",
       " '../Major Project/Deciduous/3378-25-10-2019.jpg',\n",
       " '../Major Project/Deciduous/3484-31-10-2019.jpg',\n",
       " '../Major Project/Deciduous/3245-21-10-2019.jpg',\n",
       " '../Major Project/Deciduous/3244-21-10-2019.jpg',\n",
       " '../Major Project/Deciduous/3222-19-10-2019.jpg',\n",
       " '../Major Project/Deciduous/3134-14-10-2019.jpg',\n",
       " '../Major Project/Deciduous/3065-10-10-2019.jpg',\n",
       " '../Major Project/Deciduous/3180-18-10-2019.jpg',\n",
       " '../Major Project/Deciduous/3464-30-10-2019.jpg',\n",
       " '../Major Project/Deciduous/3219-19-10-2019.jpg',\n",
       " '../Major Project/Deciduous/3415-29-10-2019.jpg',\n",
       " '../Major Project/Deciduous/3160-17-10-2019.jpg',\n",
       " '../Major Project/Deciduous/3340-23-10-2019.jpg',\n",
       " '../Major Project/Deciduous/3407-29-10-2019.jpg',\n",
       " '../Major Project/Deciduous/3217-19-10-2019.jpg',\n",
       " '../Major Project/Deciduous/3296-22-10-2019.jpg',\n",
       " '../Major Project/Deciduous/3333-23-10-2019.jpg',\n",
       " '../Major Project/Deciduous/10-01-01-2019.jpg',\n",
       " '../Major Project/Deciduous/3162-17-10-2019.jpg',\n",
       " '../Major Project/Deciduous/3112-12-10-2019.jpg',\n",
       " '../Major Project/Deciduous/3080-11-10-2019.jpg',\n",
       " '../Major Project/Deciduous/3272-21-10-2019.jpg',\n",
       " '../Major Project/Deciduous/3113-12-10-2019.jpg',\n",
       " '../Major Project/Deciduous/3185-18-10-2019.jpg',\n",
       " '../Major Project/Deciduous/3275-21-10-2019.jpg',\n",
       " '../Major Project/Deciduous/3171-17-10-2019.jpg']"
      ]
     },
     "execution_count": 2,
     "metadata": {},
     "output_type": "execute_result"
    }
   ],
   "source": [
    "all_fp = glob('../Major Project/Deciduous/*.xlsx')\n",
    "all_fp"
   ]
  },
  {
   "cell_type": "code",
   "execution_count": null,
   "metadata": {},
   "outputs": [],
   "source": [
    "av_df = pd.DataFrame()\n",
    "for file in all_fp:\n",
    "    df= pd.read_excel(file)\n",
    "    av_df = pd.concat([av_df, df])\n",
    "av_df.to_excel('')"
   ]
  }
 ],
 "metadata": {
  "kernelspec": {
   "display_name": "base",
   "language": "python",
   "name": "python3"
  },
  "language_info": {
   "codemirror_mode": {
    "name": "ipython",
    "version": 3
   },
   "file_extension": ".py",
   "mimetype": "text/x-python",
   "name": "python",
   "nbconvert_exporter": "python",
   "pygments_lexer": "ipython3",
   "version": "3.11.4"
  },
  "orig_nbformat": 4
 },
 "nbformat": 4,
 "nbformat_minor": 2
}
